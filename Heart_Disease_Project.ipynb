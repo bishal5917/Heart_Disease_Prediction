{
 "cells": [
  {
   "cell_type": "markdown",
   "id": "3df4ba8b",
   "metadata": {},
   "source": [
    "# HEART DISEASE PREDICTION (CLASSIFICATION PROJECT)"
   ]
  },
  {
   "cell_type": "markdown",
   "id": "5e75e1a5",
   "metadata": {},
   "source": [
    "The Approach Taken For This Project is -\n",
    "* Problem Definition\n",
    "* Data\n",
    "* Evaluation\n",
    "* Features \n",
    "* Modeling \n",
    "* Experimentation"
   ]
  },
  {
   "cell_type": "markdown",
   "id": "ec748431",
   "metadata": {},
   "source": [
    "# PREPARING OUR TOOLS"
   ]
  },
  {
   "cell_type": "code",
   "execution_count": 1,
   "id": "6132f6e1",
   "metadata": {},
   "outputs": [],
   "source": [
    "#Regular EDA(Exploratory Data Analysis) and Plotting Libraries\n",
    "import numpy as np\n",
    "import pandas as pd\n",
    "import matplotlib.pyplot as plt\n",
    "import seaborn as sns\n",
    "\n",
    "#Its because we want our plots to appear inside our notebook\n",
    "%matplotlib inline\n",
    "\n",
    "#Models from scikit learn\n",
    "from sklearn.linear_model import LogisticRegression\n",
    "from sklearn.neighbors import KNeighborsClassifier\n",
    "from sklearn.ensemble import RandomForestClassifier\n",
    "\n",
    "#Model Evaluations\n",
    "from sklearn.model_selection import train_test_split,cross_val_score\n",
    "from sklearn.model_selection import RandomizedSearchCV,GridSearchCV\n",
    "from sklearn.metrics import confusion_matrix,classification_report\n",
    "from sklearn.metrics import precision_score,recall_score,f1_score\n",
    "from sklearn.metrics import plot_roc_curve"
   ]
  },
  {
   "cell_type": "code",
   "execution_count": null,
   "id": "c0357d02",
   "metadata": {},
   "outputs": [],
   "source": []
  }
 ],
 "metadata": {
  "kernelspec": {
   "display_name": "Python 3 (ipykernel)",
   "language": "python",
   "name": "python3"
  },
  "language_info": {
   "codemirror_mode": {
    "name": "ipython",
    "version": 3
   },
   "file_extension": ".py",
   "mimetype": "text/x-python",
   "name": "python",
   "nbconvert_exporter": "python",
   "pygments_lexer": "ipython3",
   "version": "3.9.5"
  }
 },
 "nbformat": 4,
 "nbformat_minor": 5
}
